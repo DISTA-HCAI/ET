{
 "cells": [
  {
   "cell_type": "markdown",
   "id": "de292ab0-a9ef-4f74-8145-e4c3a6f42454",
   "metadata": {},
   "source": [
    "# Imports and constants:"
   ]
  },
  {
   "cell_type": "code",
   "execution_count": null,
   "id": "c837c134-98aa-4766-855c-dd14da9f2e99",
   "metadata": {},
   "outputs": [],
   "source": [
    "import os\n",
    "os.environ[\"CUDA_VISIBLE_DEVICES\"] = \"1\"\n",
    "assert os.environ[\"CUDA_VISIBLE_DEVICES\"] == \"1\"\n",
    "\n",
    "import hydra\n",
    "from omegaconf import DictConfig, OmegaConf\n",
    "import argparse\n",
    "import tqdm\n",
    "from pprint import pprint\n",
    "from immunization_utils_dev import *\n",
    "from tqdm import tqdm, trange"
   ]
  },
  {
   "cell_type": "markdown",
   "id": "2f372a6e",
   "metadata": {},
   "source": [
    "# Reload (Dev)"
   ]
  },
  {
   "cell_type": "code",
   "execution_count": null,
   "id": "426777f4",
   "metadata": {},
   "outputs": [],
   "source": [
    "from importlib import reload\n",
    "import importlib\n",
    "reload(importlib.import_module('immunization_utils_dev'))\n",
    "from immunization_utils_dev import *\n"
   ]
  },
  {
   "cell_type": "markdown",
   "id": "10857ed9",
   "metadata": {},
   "source": [
    "# Initialize:"
   ]
  },
  {
   "cell_type": "code",
   "execution_count": null,
   "id": "990c75e0",
   "metadata": {},
   "outputs": [],
   "source": [
    "cfg = OmegaConf.load('config/base.yaml')\n",
    "cfg.override='debug'\n",
    "config_overrides = OmegaConf.load(f'config/overrides/{cfg.override}.yaml')\n",
    "cfg = OmegaConf.merge(cfg, config_overrides)\n",
    "kwargs, \\\n",
    "    logging_dict, \\\n",
    "    model, tokenizer, \\\n",
    "    eval_model, eval_tokenizer, \\\n",
    "    training_attack_data_dict, \\\n",
    "    safety_eval_data, \\\n",
    "    performance_eval_data = initialize(cfg)"
   ]
  },
  {
   "cell_type": "markdown",
   "id": "87908715",
   "metadata": {},
   "source": [
    "# Go Play"
   ]
  },
  {
   "cell_type": "code",
   "execution_count": null,
   "id": "e39f4ec4",
   "metadata": {},
   "outputs": [],
   "source": [
    "layer=15\n",
    "kwargs['init_defence_epochs'] = 150\n",
    "kwargs['init_attack_prompts'] = 30\n",
    "kwargs['init_attack_epochs'] = 30\n",
    "kwargs['init_defence_prompts'] = 500\n",
    "kwargs['defence_reg_coeff'] = 0.02\n",
    "kwargs['defence_strategy'] = 'GATE_UP_DOWN_QUERY_KEY_VALUE_OUTPUT'  \n",
    "# kwargs['defence_strategy'] = 'GATE_UP_DOWN'\n",
    "kwargs['init_defence_criterion'] = 'mse'\n",
    "kwargs['frobenious_norm_scaling_factor'] = 0.7\n",
    "kwargs['cosine_similarity_scaling_factor'] = 0.3\n",
    "kwargs['init_eval_safety_prompts'] = 50\n",
    "kwargs['performance_batches'] = 30\n",
    "kwargs['defence_regularization'] = 'simple'"
   ]
  },
  {
   "cell_type": "code",
   "execution_count": null,
   "id": "42dd4253",
   "metadata": {},
   "outputs": [],
   "source": [
    "# Initialize a configuration for attack\n",
    "attack_config = init_single_layer_attack_config(model, layer, kwargs)\n",
    "\n",
    "attacked_model, safety_eval_table = reft_attack(\n",
    "                    model, \n",
    "                    tokenizer, \n",
    "                    attack_config, \n",
    "                    training_attack_data_dict, \n",
    "                    eval_model, \n",
    "                    eval_tokenizer, \n",
    "                    safety_eval_data,\n",
    "                    performance_eval_data,\n",
    "                    logging_dict, \n",
    "                    kwargs)"
   ]
  },
  {
   "cell_type": "code",
   "execution_count": null,
   "id": "e4d43ffd",
   "metadata": {},
   "outputs": [],
   "source": [
    "print('Toxicity: ',attack_config['toxicity'])"
   ]
  },
  {
   "cell_type": "code",
   "execution_count": null,
   "id": "a6e834b7",
   "metadata": {},
   "outputs": [],
   "source": [
    "# Initialize a configuration for defence:\n",
    "defence_config = init_custom_defence_config(model, attack_config, attacked_model, 1, kwargs)     \n",
    "kwargs['first_inner_defence_round']= True"
   ]
  },
  {
   "cell_type": "code",
   "execution_count": null,
   "id": "58fb04b8",
   "metadata": {},
   "outputs": [],
   "source": [
    "\n",
    "eval_table, defence_results = custom_defence(\n",
    "                model,\n",
    "                tokenizer,\n",
    "                eval_model,\n",
    "                eval_tokenizer,\n",
    "                defence_config,\n",
    "                training_attack_data_dict,\n",
    "                safety_eval_data,\n",
    "                performance_eval_data,\n",
    "                logging_dict, \n",
    "                kwargs)\n",
    "\n",
    "kwargs['first_inner_defence_round']= False"
   ]
  },
  {
   "cell_type": "code",
   "execution_count": null,
   "id": "f50414b1",
   "metadata": {},
   "outputs": [],
   "source": [
    "model = reset_defended_module(model, defence_config, kwargs)"
   ]
  },
  {
   "cell_type": "code",
   "execution_count": null,
   "id": "e7c96f96",
   "metadata": {},
   "outputs": [],
   "source": [
    "import matplotlib.pyplot as plt\n",
    "plt.figure(figsize=(12, 8))  # Set the figure size to make the plot bigger\n",
    "\n",
    "# smooth the series:\n",
    "def smooth_series(series, smoothing_factor=0.9):\n",
    "    smoothed_series = []\n",
    "    last_value = series[0]\n",
    "    for value in series:\n",
    "        smoothed_value = last_value * smoothing_factor + value * (1 - smoothing_factor)\n",
    "        smoothed_series.append(smoothed_value)\n",
    "        last_value = smoothed_value\n",
    "    return smoothed_series\n",
    "\n",
    "\n",
    "epoch_mlp_reg_losses = [r.detach().cpu().double() for r in defence_results['epoch_mlp_reg_losses']]\n",
    "epoch_mlp_def_losses = [r.detach().cpu().double() for r in defence_results['epoch_mlp_def_losses']]\n",
    "epoch_attn_def_losses = [r.detach().cpu().double() for r in defence_results['epoch_attn_def_losses']]\n",
    "epoch_attn_reg_losses = [r.detach().cpu().double() for r in defence_results['epoch_attn_reg_losses']]\n",
    "epoch_block_def_losses = [r.detach().cpu().double() for r in defence_results['epoch_block_def_losses']]\n",
    "epoch_block_reg_losses = [r.detach().cpu().double() for r in defence_results['epoch_block_reg_losses']]\n",
    "# smoothed_main_losses_series = smooth_series(main_losses_series)\n",
    "# plt.plot(smoothed_main_losses_series, label='smoothed_epoch_mlp_reg_losses')\n",
    "\n",
    "plt.plot(epoch_block_def_losses, label='epoch_block_def_losses', alpha=0.5, linestyle='-.')\n",
    "#plt.plot(epoch_block_reg_losses, label='epoch_block_reg_losses', alpha=0.5)\n",
    "#plt.plot(epoch_mlp_reg_losses, label='epoch_mlp_reg_losses', alpha=0.5)\n",
    "plt.plot(epoch_mlp_def_losses, label='epoch_mlp_def_losses', alpha=0.5)\n",
    "plt.plot(epoch_attn_def_losses, label='epoch_attn_def_losses', alpha=0.7, linestyle='--')\n",
    "#plt.plot(epoch_attn_reg_losses, label='epoch_attn_reg_losses', alpha=0.5)\n",
    "#plt.plot([r.cpu().double() for r in defence_results['epoch_reg_losses']], label='reg_loss')\n",
    "plt.yscale('log')\n",
    "plt.legend()\n",
    "plt.show()"
   ]
  },
  {
   "cell_type": "code",
   "execution_count": null,
   "id": "d011b275",
   "metadata": {},
   "outputs": [],
   "source": [
    "epoch_block_def_losses = [r.detach().cpu().double() for r in defence_results['epoch_block_def_losses']]\n",
    "smoothed_epoch_block_def_losses = smooth_series(epoch_block_def_losses)\n",
    "plt.plot(smoothed_epoch_block_def_losses, label='smoothed_epoch_block_def_losses')\n",
    "plt.plot(epoch_block_def_losses, label='epoch_block_def_losses', alpha=0.5)\n",
    "#plt.plot([r.cpu().double() for r in defence_results['epoch_reg_losses']], label='reg_loss')\n",
    "plt.legend()\n",
    "plt.show()"
   ]
  },
  {
   "cell_type": "code",
   "execution_count": null,
   "id": "067f5a7e",
   "metadata": {},
   "outputs": [],
   "source": [
    "epoch_block_def_losses = [r.detach().cpu().double() for r in defence_results['epoch_block_def_losses']]\n",
    "smoothed_epoch_block_def_losses = smooth_series(epoch_block_def_losses)\n",
    "plt.plot(smoothed_epoch_block_def_losses, label='smoothed_epoch_block_def_losses')\n",
    "plt.plot(epoch_block_def_losses, label='epoch_block_def_losses', alpha=0.5)\n",
    "#plt.plot([r.cpu().double() for r in defence_results['epoch_reg_losses']], label='reg_loss')\n",
    "plt.legend()\n",
    "plt.show()"
   ]
  },
  {
   "cell_type": "code",
   "execution_count": null,
   "id": "b4f92c69",
   "metadata": {},
   "outputs": [],
   "source": [
    "epoch_block_def_losses = [r.detach().cpu().double() for r in defence_results['epoch_block_def_losses']]\n",
    "smoothed_epoch_block_def_losses = smooth_series(epoch_block_def_losses)\n",
    "plt.plot(smoothed_epoch_block_def_losses, label='smoothed_epoch_block_def_losses')\n",
    "plt.plot(epoch_block_def_losses, label='epoch_block_def_losses', alpha=0.5)\n",
    "#plt.plot([r.cpu().double() for r in defence_results['epoch_reg_losses']], label='reg_loss')\n",
    "plt.legend()\n",
    "plt.show()"
   ]
  },
  {
   "cell_type": "code",
   "execution_count": null,
   "id": "6726fc0b",
   "metadata": {},
   "outputs": [],
   "source": [
    "epoch_block_reg_losses = [r.detach().cpu().double() for r in defence_results['epoch_block_reg_losses']]\n",
    "smoothed_epoch_block_reg_losses = smooth_series(epoch_block_reg_losses)\n",
    "plt.plot(smoothed_epoch_block_reg_losses, label='smoothed_epoch_block_reg_losses')\n",
    "plt.plot(epoch_block_reg_losses, label='epoch_block_reg_losses', alpha=0.5)\n",
    "plt.legend()\n",
    "plt.show()"
   ]
  },
  {
   "cell_type": "code",
   "execution_count": null,
   "id": "f73cc6a5",
   "metadata": {},
   "outputs": [],
   "source": [
    "epoch_mlp_def_losses = [r.detach().cpu().double() for r in defence_results['epoch_mlp_def_losses']]\n",
    "smoothed_mlp_def_losses_series = smooth_series(epoch_mlp_def_losses)\n",
    "plt.plot(smoothed_mlp_def_losses_series, label='smoothed_epoch_mlp_def_losses')\n",
    "plt.plot(epoch_mlp_def_losses, label='epoch_mlp_def_losses', alpha=0.5)\n",
    "#plt.plot([r.cpu().double() for r in defence_results['epoch_reg_losses']], label='reg_loss')\n",
    "plt.legend()\n",
    "plt.show()"
   ]
  },
  {
   "cell_type": "code",
   "execution_count": null,
   "id": "9fc03c2c",
   "metadata": {},
   "outputs": [],
   "source": [
    "epoch_mlp_def_losses = [r.detach().cpu().double() for r in defence_results['epoch_mlp_def_losses']]\n",
    "smoothed_mlp_def_losses_series = smooth_series(epoch_mlp_def_losses)\n",
    "plt.plot(smoothed_mlp_def_losses_series, label='smoothed_epoch_mlp_def_losses')\n",
    "plt.plot(epoch_mlp_def_losses, label='epoch_mlp_def_losses', alpha=0.5)\n",
    "#plt.plot([r.cpu().double() for r in defence_results['epoch_reg_losses']], label='reg_loss')\n",
    "plt.legend()\n",
    "plt.show()"
   ]
  }
 ],
 "metadata": {
  "kernelspec": {
   "display_name": "base",
   "language": "python",
   "name": "base"
  },
  "language_info": {
   "codemirror_mode": {
    "name": "ipython",
    "version": 3
   },
   "file_extension": ".py",
   "mimetype": "text/x-python",
   "name": "python",
   "nbconvert_exporter": "python",
   "pygments_lexer": "ipython3",
   "version": "3.11.9"
  }
 },
 "nbformat": 4,
 "nbformat_minor": 5
}
