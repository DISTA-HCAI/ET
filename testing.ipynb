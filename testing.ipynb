{
 "cells": [
  {
   "cell_type": "markdown",
   "id": "de292ab0-a9ef-4f74-8145-e4c3a6f42454",
   "metadata": {},
   "source": [
    "# Imports and constants:"
   ]
  },
  {
   "cell_type": "code",
   "execution_count": 1,
   "id": "c837c134-98aa-4766-855c-dd14da9f2e99",
   "metadata": {},
   "outputs": [],
   "source": [
    "import os\n",
    "os.environ[\"CUDA_VISIBLE_DEVICES\"] = \"1\"\n",
    "assert os.environ[\"CUDA_VISIBLE_DEVICES\"] == \"1\"\n",
    "\n",
    "import hydra\n",
    "from omegaconf import DictConfig, OmegaConf\n",
    "import argparse\n",
    "import tqdm\n",
    "from pprint import pprint\n",
    "from immunization_utils_dev import *\n",
    "from tqdm import tqdm, trange"
   ]
  },
  {
   "cell_type": "markdown",
   "id": "2f372a6e",
   "metadata": {},
   "source": [
    "# Reload (Dev)"
   ]
  },
  {
   "cell_type": "code",
   "execution_count": null,
   "id": "426777f4",
   "metadata": {},
   "outputs": [],
   "source": [
    "from importlib import reload\n",
    "import importlib\n",
    "reload(importlib.import_module('immunization_utils_dev'))\n",
    "from immunization_utils_dev import *\n"
   ]
  },
  {
   "cell_type": "markdown",
   "id": "10857ed9",
   "metadata": {},
   "source": [
    "# Initialize:"
   ]
  },
  {
   "cell_type": "code",
   "execution_count": null,
   "id": "990c75e0",
   "metadata": {},
   "outputs": [],
   "source": [
    "cfg = OmegaConf.load('config/base.yaml')\n",
    "cfg.override='debug'\n",
    "config_overrides = OmegaConf.load(f'config/overrides/{cfg.override}.yaml')\n",
    "cfg = OmegaConf.merge(cfg, config_overrides)\n",
    "kwargs, \\\n",
    "    logging_dict, \\\n",
    "    model, tokenizer, \\\n",
    "    eval_model, eval_tokenizer, \\\n",
    "    training_attack_data_dict, \\\n",
    "    safety_eval_data, \\\n",
    "    performance_eval_data = initialize(cfg)"
   ]
  },
  {
   "cell_type": "markdown",
   "id": "87908715",
   "metadata": {},
   "source": [
    "# Go Play"
   ]
  },
  {
   "cell_type": "code",
   "execution_count": null,
   "id": "e39f4ec4",
   "metadata": {},
   "outputs": [],
   "source": [
    "layer=15\n",
    "kwargs['init_defence_epochs'] = 20\n",
    "kwargs['init_defence_prompts'] = 400\n",
    "kwargs['defence_reg_coeff'] = 0.2\n",
    "kwargs['defence_strategy'] = 'GATE_UP_DOWN_QUERY_KEY_VALUE_OUTPUT'  \n",
    "kwargs['init_defence_criterion'] = 'mse_cos'\n",
    "kwargs['frobenious_norm_scaling_factor'] = 0.7\n",
    "kwargs['cosine_similarity_scaling_factor'] = 0.3\n",
    "kwargs['verbose'] = True\n",
    "kwargs['init_eval_safety_prompts'] = 1\n",
    "kwargs['performance_batches'] = 1"
   ]
  },
  {
   "cell_type": "code",
   "execution_count": null,
   "id": "42dd4253",
   "metadata": {},
   "outputs": [],
   "source": [
    "# Initialize a configuration for attack\n",
    "attack_config = init_single_layer_attack_config(model, layer, kwargs)\n",
    "\n",
    "attacked_model, safety_eval_table = reft_attack(\n",
    "                    model, \n",
    "                    tokenizer, \n",
    "                    attack_config, \n",
    "                    training_attack_data_dict, \n",
    "                    eval_model, \n",
    "                    eval_tokenizer, \n",
    "                    safety_eval_data,\n",
    "                    performance_eval_data,\n",
    "                    logging_dict, \n",
    "                    kwargs)\n",
    "                    \n",
    "\n"
   ]
  },
  {
   "cell_type": "code",
   "execution_count": null,
   "id": "a6e834b7",
   "metadata": {},
   "outputs": [],
   "source": [
    "# Initialize a configuration for defence:\n",
    "defence_config = init_custom_defence_config(model, attack_config, attacked_model, 1, kwargs)     \n",
    "kwargs['first_inner_defence_round']= True"
   ]
  },
  {
   "cell_type": "code",
   "execution_count": null,
   "id": "58fb04b8",
   "metadata": {},
   "outputs": [],
   "source": [
    "\n",
    "eval_table, defence_results = custom_defence(\n",
    "                model,\n",
    "                tokenizer,\n",
    "                eval_model,\n",
    "                eval_tokenizer,\n",
    "                defence_config,\n",
    "                training_attack_data_dict,\n",
    "                safety_eval_data,\n",
    "                performance_eval_data,\n",
    "                logging_dict, \n",
    "                kwargs)\n",
    "\n",
    "kwargs['first_inner_defence_round']= False"
   ]
  },
  {
   "cell_type": "code",
   "execution_count": null,
   "id": "f50414b1",
   "metadata": {},
   "outputs": [],
   "source": [
    "model = reset_defended_module(model, defence_config, kwargs)"
   ]
  },
  {
   "cell_type": "code",
   "execution_count": null,
   "id": "e7c96f96",
   "metadata": {},
   "outputs": [],
   "source": [
    "import matplotlib.pyplot as plt\n",
    "\n",
    "# smooth the series:\n",
    "def smooth_series(series, smoothing_factor=0.9):\n",
    "    smoothed_series = []\n",
    "    last_value = series[0]\n",
    "    for value in series:\n",
    "        smoothed_value = last_value * smoothing_factor + value * (1 - smoothing_factor)\n",
    "        smoothed_series.append(smoothed_value)\n",
    "        last_value = smoothed_value\n",
    "    return smoothed_series\n",
    "\n",
    "\n",
    "epoch_mlp_reg_losses = [r.detach().cpu().double() for r in defence_results['epoch_mlp_reg_losses']]\n",
    "epoch_mlp_def_losses = [r.detach().cpu().double() for r in defence_results['epoch_mlp_def_losses']]\n",
    "epoch_attn_def_losses = [r.detach().cpu().double() for r in defence_results['epoch_attn_def_losses']]\n",
    "epoch_attn_reg_losses = [r.detach().cpu().double() for r in defence_results['epoch_attn_reg_losses']]\n",
    "# smoothed_main_losses_series = smooth_series(main_losses_series)\n",
    "# plt.plot(smoothed_main_losses_series, label='smoothed_epoch_mlp_reg_losses')\n",
    "\n",
    "plt.plot(epoch_mlp_reg_losses, label='epoch_mlp_reg_losses', alpha=0.5)\n",
    "plt.plot(epoch_mlp_def_losses, label='epoch_mlp_def_losses', alpha=0.5)\n",
    "plt.plot(epoch_attn_def_losses, label='epoch_attn_def_losses', alpha=0.5)\n",
    "plt.plot(epoch_attn_reg_losses, label='epoch_attn_reg_losses', alpha=0.5)\n",
    "#plt.plot([r.cpu().double() for r in defence_results['epoch_reg_losses']], label='reg_loss')\n",
    "plt.yscale('log')\n",
    "plt.legend()\n",
    "plt.show()"
   ]
  },
  {
   "cell_type": "code",
   "execution_count": null,
   "id": "22a58020",
   "metadata": {},
   "outputs": [],
   "source": [
    "import matplotlib.pyplot as plt\n",
    "\n",
    "# smooth the series:\n",
    "def smooth_series(series, smoothing_factor=0.9):\n",
    "    smoothed_series = []\n",
    "    last_value = series[0]\n",
    "    for value in series:\n",
    "        smoothed_value = last_value * smoothing_factor + value * (1 - smoothing_factor)\n",
    "        smoothed_series.append(smoothed_value)\n",
    "        last_value = smoothed_value\n",
    "    return smoothed_series\n",
    "\n",
    "\n",
    "epoch_mlp_reg_losses = [r.detach().cpu().double() for r in defence_results['epoch_mlp_reg_losses']]\n",
    "epoch_mlp_def_losses = [r.detach().cpu().double() for r in defence_results['epoch_mlp_def_losses']]\n",
    "epoch_attn_def_losses = [r.detach().cpu().double() for r in defence_results['epoch_attn_def_losses']]\n",
    "epoch_attn_reg_losses = [r.detach().cpu().double() for r in defence_results['epoch_attn_reg_losses']]\n",
    "# smoothed_main_losses_series = smooth_series(main_losses_series)\n",
    "# plt.plot(smoothed_main_losses_series, label='smoothed_epoch_mlp_reg_losses')\n",
    "\n",
    "plt.plot(epoch_mlp_reg_losses, label='epoch_mlp_reg_losses', alpha=0.5)\n",
    "plt.plot(epoch_mlp_def_losses, label='epoch_mlp_def_losses', alpha=0.5)\n",
    "plt.plot(epoch_attn_def_losses, label='epoch_attn_def_losses', alpha=0.5)\n",
    "plt.plot(epoch_attn_reg_losses, label='epoch_attn_reg_losses', alpha=0.5)\n",
    "#plt.plot([r.cpu().double() for r in defence_results['epoch_reg_losses']], label='reg_loss')\n",
    "plt.yscale('log')\n",
    "plt.legend()\n",
    "plt.show()"
   ]
  },
  {
   "cell_type": "code",
   "execution_count": null,
   "id": "e3c00ce0",
   "metadata": {},
   "outputs": [],
   "source": [
    "epoch_attn_reg_losses"
   ]
  },
  {
   "cell_type": "code",
   "execution_count": null,
   "id": "47de3395",
   "metadata": {},
   "outputs": [],
   "source": [
    "import matplotlib.pyplot as plt\n",
    "\n",
    "# smooth the series:\n",
    "def smooth_series(series, smoothing_factor=0.9):\n",
    "    smoothed_series = []\n",
    "    last_value = series[0]\n",
    "    for value in series:\n",
    "        smoothed_value = last_value * smoothing_factor + value * (1 - smoothing_factor)\n",
    "        smoothed_series.append(smoothed_value)\n",
    "        last_value = smoothed_value\n",
    "    return smoothed_series\n",
    "\n",
    "\n",
    "main_losses_series = [r.cpu().double() for r in defence_results['epoch_main_losses']]\n",
    "smoothed_main_losses_series = smooth_series(main_losses_series)\n",
    "plt.plot(smoothed_main_losses_series, label='smoothed_main_loss')\n",
    "\n",
    "plt.plot(main_losses_series, label='main_loss', alpha=0.3)\n",
    "#plt.plot([r.cpu().double() for r in defence_results['epoch_reg_losses']], label='reg_loss')\n",
    "plt.yscale('log')\n",
    "plt.legend()\n",
    "plt.show()"
   ]
  },
  {
   "cell_type": "code",
   "execution_count": null,
   "id": "85c58510",
   "metadata": {},
   "outputs": [],
   "source": [
    "import matplotlib.pyplot as plt\n",
    "# plt.plot([r.cpu().double() for r in defence_results['epoch_main_losses']], label='main_loss')\n",
    "plt.plot([r.cpu().double() for r in defence_results['epoch_reg_losses']], label='reg_loss')\n",
    "# plt.yscale('log')\n",
    "plt.legend()\n",
    "plt.show()"
   ]
  },
  {
   "cell_type": "code",
   "execution_count": null,
   "id": "1de3a191",
   "metadata": {},
   "outputs": [],
   "source": [
    "defence_results"
   ]
  },
  {
   "cell_type": "code",
   "execution_count": null,
   "id": "2285d80a",
   "metadata": {},
   "outputs": [],
   "source": [
    "model = reset_defended_module(model, defence_config, kwargs)"
   ]
  }
 ],
 "metadata": {
  "kernelspec": {
   "display_name": "base",
   "language": "python",
   "name": "base"
  },
  "language_info": {
   "codemirror_mode": {
    "name": "ipython",
    "version": 3
   },
   "file_extension": ".py",
   "mimetype": "text/x-python",
   "name": "python",
   "nbconvert_exporter": "python",
   "pygments_lexer": "ipython3",
   "version": "3.11.9"
  }
 },
 "nbformat": 4,
 "nbformat_minor": 5
}
